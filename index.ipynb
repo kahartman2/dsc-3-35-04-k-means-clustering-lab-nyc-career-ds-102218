{
 "cells": [
  {
   "cell_type": "markdown",
   "metadata": {},
   "source": [
    "# K means clustering - Lab\n",
    "\n",
    "## Introduction\n",
    "\n",
    "In this lab, we'll learn how to use scikit-learn's implementation of the K-Means Clustering algorithm to analyze a dataset!\n",
    "\n",
    "## Objectives\n",
    "\n",
    "You will be able to:\n",
    "\n",
    "* Demonstrate an understanding of how the K-Means Clustering algorithm works\n",
    "* Perform K-Means Clustering with scikit-learn and interpret results\n",
    "* Use metrics such as Calinski Harabaz Scores (Variance Ratios) to determine the optimal number of clusters\n",
    "\n",
    "\n",
    "## Understanding the K-Means Algorithm \n",
    "\n",
    "The k means clustering algorithm is an iterative algorithm that reaches for a pre-determined number of clusters within an unlabeled dataset, and basically works as follows:\n",
    "\n",
    "- select k initial seeds\n",
    "- assign each observation to the cluster to which it is \"closest\" \n",
    "- recompute the cluster centroids\n",
    "- reassign the observations to one of the clusters according to some rule\n",
    "- stop if there is no reallocation\n",
    "\n",
    "## Creating a Dataset\n",
    "\n",
    "For this lab, we'll create a synthetic dataset to work with, so that there are clearly defined clusters we can work with to see how well the algorithm performs. \n",
    "\n",
    "In the cell below:\n",
    "\n",
    "* Import `make_blobs` from `sklearn.datasets`\n",
    "* Import pandas, numpy, and matplotlib.pyplot, and set the standard alias for each. \n",
    "* Set matplotlib visualizations to display inline\n",
    "* Use numpy to set a random seed of `1`.\n",
    "* Import `KMeans` from `sklearn.cluster`"
   ]
  },
  {
   "cell_type": "code",
   "execution_count": 1,
   "metadata": {},
   "outputs": [],
   "source": [
    "from sklearn.datasets import make_blobs \n",
    "import pandas as pd \n",
    "import numpy as np \n",
    "import matplotlib.pyplot as plt \n",
    "%matplotlib inline  \n",
    "np.random.seed(1)\n",
    "from sklearn.cluster import KMeans"
   ]
  },
  {
   "cell_type": "markdown",
   "metadata": {},
   "source": [
    "Now, we'll use `make_blobs` to create our dataset. \n",
    "\n",
    "In the cell below:\n",
    "\n",
    "* Call `make_blobs`, and pass in the following parameters:\n",
    "    * `n_samples=400`\n",
    "    * `n_features=2`\n",
    "    * `centers=6`\n",
    "    * `cluster_std=0.8`"
   ]
  },
  {
   "cell_type": "code",
   "execution_count": 14,
   "metadata": {},
   "outputs": [],
   "source": [
    "X, y = make_blobs(n_samples=400, n_features=2, centers=6, cluster_std=.8)"
   ]
  },
  {
   "cell_type": "markdown",
   "metadata": {},
   "source": [
    "Now, let's visualize our clusters to see what we've created. Run the cell below to visualize our newly created \"blob\" dataset."
   ]
  },
  {
   "cell_type": "code",
   "execution_count": 29,
   "metadata": {},
   "outputs": [
    {
     "data": {
      "text/plain": [
       "array([[ 3.23169441,  1.9400411 ],\n",
       "       [ 4.03237698,  1.37097121],\n",
       "       [ 4.67406307, -5.38692949],\n",
       "       [-5.48504061, -5.01023206],\n",
       "       [-5.06562147, -0.39540628],\n",
       "       [ 5.0142764 ,  0.56107624],\n",
       "       [-5.35963838, -1.15206206],\n",
       "       [ 8.4062908 , -3.3504561 ],\n",
       "       [ 3.50091222,  2.54223078],\n",
       "       [ 3.83034719, -6.31699359],\n",
       "       [ 8.71721712, -2.97320331],\n",
       "       [-5.11900653, -3.7585485 ],\n",
       "       [-4.66274997, -2.77884135],\n",
       "       [ 6.55521183, -2.18325869],\n",
       "       [ 4.51731797, -6.77164459],\n",
       "       [-5.46776067, -2.95704076],\n",
       "       [ 5.73040084, -3.40425926],\n",
       "       [ 9.37506876, -2.49406798],\n",
       "       [-6.8721129 ,  1.07771772],\n",
       "       [ 3.2072791 , -5.71949396],\n",
       "       [ 3.93015427, -7.19396753],\n",
       "       [ 8.02152989, -2.55484371],\n",
       "       [ 5.76804156, -6.60241517],\n",
       "       [ 6.93816238, -5.27655805],\n",
       "       [ 6.34158119, -3.58231005],\n",
       "       [-3.61398189, -5.31590213],\n",
       "       [ 2.93465883,  1.90199826],\n",
       "       [ 6.29759564, -7.79101386],\n",
       "       [-6.09513555, -2.31366172],\n",
       "       [ 5.3132379 , -6.05542913],\n",
       "       [ 9.49842294, -2.31449925],\n",
       "       [ 9.56611029, -3.95241085],\n",
       "       [ 8.46716089, -3.54434299],\n",
       "       [ 3.63195381, -6.10107005],\n",
       "       [ 7.73053487, -3.34457889],\n",
       "       [ 7.69344084, -2.01761337],\n",
       "       [ 2.8736571 ,  0.69486805],\n",
       "       [ 3.01135318,  0.38410205],\n",
       "       [ 4.54628214,  2.02061468],\n",
       "       [ 4.17917967, -5.25646323],\n",
       "       [-4.30264672, -5.09620847],\n",
       "       [ 3.42027404,  1.59707509],\n",
       "       [-3.75204551, -5.84398658],\n",
       "       [-7.08413162,  0.38778071],\n",
       "       [-6.58390261, -0.42842866],\n",
       "       [ 4.78372864, -6.30510644],\n",
       "       [ 3.74560205, -6.1840097 ],\n",
       "       [ 4.44186039,  0.85946083],\n",
       "       [-5.20801103, -1.42691824],\n",
       "       [ 9.01873033, -3.31867755],\n",
       "       [ 4.55998942, -5.63709179],\n",
       "       [ 5.10991354,  1.72854923],\n",
       "       [ 6.40786926, -3.38218027],\n",
       "       [ 3.62569054, -7.46561802],\n",
       "       [-7.82056085,  0.11710365],\n",
       "       [10.06611256, -2.23811484],\n",
       "       [ 2.63644352,  0.3871304 ],\n",
       "       [ 3.60865343, -5.80128038],\n",
       "       [ 4.79824607, -7.78903375],\n",
       "       [-3.5304151 , -4.014256  ],\n",
       "       [ 8.04094174, -4.14373076],\n",
       "       [-7.09710971,  0.32749679],\n",
       "       [-5.853648  , -4.32821313],\n",
       "       [ 4.15475979,  2.25424734],\n",
       "       [-5.75143956,  0.20311275],\n",
       "       [ 7.44472895, -3.68971368],\n",
       "       [-6.1904049 ,  1.34684963],\n",
       "       [-5.20494209, -4.63242806],\n",
       "       [ 4.78815971,  1.47856034],\n",
       "       [-6.84086205, -0.11031636],\n",
       "       [ 2.92144699, -6.36462018],\n",
       "       [-4.80521823, -4.66401064],\n",
       "       [ 6.7076456 , -2.82628216],\n",
       "       [-6.26654946,  1.45076351],\n",
       "       [-7.01750398, -1.50075301],\n",
       "       [ 9.45466984, -4.02073643],\n",
       "       [ 6.24427854, -4.42141257],\n",
       "       [ 2.8121137 ,  2.73518669],\n",
       "       [ 4.3222546 , -7.07218417],\n",
       "       [ 9.03569174, -3.44939553],\n",
       "       [-3.87300235, -5.00597877],\n",
       "       [ 7.74649402, -3.76367346],\n",
       "       [ 9.69892809, -3.66108229],\n",
       "       [ 5.97199312, -2.3481281 ],\n",
       "       [-4.09715082, -4.20191876],\n",
       "       [ 5.60386385, -5.28754464],\n",
       "       [ 2.92410365, -6.24579682],\n",
       "       [ 8.37562915, -3.1153345 ],\n",
       "       [ 8.53112655, -3.19269641],\n",
       "       [ 3.25404502,  2.27183861],\n",
       "       [ 6.21929948, -3.12343811],\n",
       "       [ 4.12962387, -5.72053904],\n",
       "       [-4.82812419, -4.81878687],\n",
       "       [-6.4822814 , -0.62805542],\n",
       "       [ 8.79144531, -1.78392066],\n",
       "       [-6.99867351, -0.65217713],\n",
       "       [-4.37192909, -5.10694618],\n",
       "       [-6.48237523, -0.47638563],\n",
       "       [-5.31485893, -4.95232103],\n",
       "       [-6.78647014,  0.06219886],\n",
       "       [ 9.72179837, -3.17538362],\n",
       "       [ 3.89827468, -6.26353385],\n",
       "       [-4.42492207, -3.96791546],\n",
       "       [-5.74996028, -0.44564662],\n",
       "       [ 3.28127102, -6.38209254],\n",
       "       [ 3.63895927, -4.66894242],\n",
       "       [ 6.85116266, -3.47204377],\n",
       "       [10.13265909, -3.27247548],\n",
       "       [-3.90972916, -4.06717226],\n",
       "       [ 6.99029891, -2.98864269],\n",
       "       [ 6.84865973, -3.47657393],\n",
       "       [-8.04807923,  1.09826991],\n",
       "       [-6.21497916, -0.90197952],\n",
       "       [ 4.17377135, -6.81999603],\n",
       "       [-4.97013442,  1.53428762],\n",
       "       [ 7.7932818 , -3.30760653],\n",
       "       [ 7.68612458, -3.04091229],\n",
       "       [ 4.78155493, -6.63965983],\n",
       "       [ 4.82797043, -7.0627931 ],\n",
       "       [ 6.87029752, -2.66339565],\n",
       "       [-1.88981123, -4.34553224],\n",
       "       [-6.58498489, -1.02105659],\n",
       "       [-5.27777415, -3.48243895],\n",
       "       [-4.00328087, -4.1626736 ],\n",
       "       [-3.44849152, -3.42220821],\n",
       "       [ 2.9885345 ,  0.81163383],\n",
       "       [ 9.11929427, -3.04329603],\n",
       "       [-7.33320386,  0.24815189],\n",
       "       [-3.9577777 , -4.56731442],\n",
       "       [ 3.94242886,  1.16338184],\n",
       "       [-4.019214  , -5.02639878],\n",
       "       [ 6.98990073, -4.27478285],\n",
       "       [-4.8784229 , -0.44862147],\n",
       "       [ 4.51551152,  0.719851  ],\n",
       "       [-7.2177554 , -0.72685416],\n",
       "       [-6.7114397 , -4.37709213],\n",
       "       [ 6.67696836, -3.96858339],\n",
       "       [ 9.17381697, -4.65659037],\n",
       "       [ 3.85021781,  0.76530329],\n",
       "       [ 6.89205953, -2.78285651],\n",
       "       [-6.76068263, -0.15487921],\n",
       "       [ 6.68128393, -2.79486078],\n",
       "       [ 4.00025975,  1.25010886],\n",
       "       [ 3.51395586, -6.68703264],\n",
       "       [ 2.78091538,  1.53154328],\n",
       "       [-4.32169748, -4.62346112],\n",
       "       [ 4.04204032, -5.8700318 ],\n",
       "       [-5.74544515,  0.63712356],\n",
       "       [ 4.35976244, -6.57876993],\n",
       "       [ 4.14266107, -6.11048691],\n",
       "       [ 9.70852731, -2.78735904],\n",
       "       [ 5.32608134,  0.56162893],\n",
       "       [-4.69781512, -6.27115839],\n",
       "       [-6.63129809, -0.89327883],\n",
       "       [-6.46957995,  1.13376558],\n",
       "       [ 5.54600064, -7.05052839],\n",
       "       [-4.69408404, -3.47407975],\n",
       "       [-4.36559549, -4.32772622],\n",
       "       [-6.27331178,  0.08279823],\n",
       "       [-3.80687102, -4.16330705],\n",
       "       [ 4.05410005,  1.54206526],\n",
       "       [ 7.28597557, -3.06994846],\n",
       "       [-4.12815151, -5.25824873],\n",
       "       [ 3.7708633 , -6.19774244],\n",
       "       [ 7.4736875 , -3.20103916],\n",
       "       [-6.34519134, -0.70887657],\n",
       "       [10.31976324, -3.09403042],\n",
       "       [-4.36055555, -4.73517472],\n",
       "       [ 3.48909227,  1.72004091],\n",
       "       [ 4.40038926, -5.67317373],\n",
       "       [ 8.51809471, -3.29168797],\n",
       "       [-7.32098358, -0.15027767],\n",
       "       [ 7.15007817, -3.17324313],\n",
       "       [ 7.47617796, -3.86769649],\n",
       "       [ 8.59573504, -2.7859379 ],\n",
       "       [-5.16710066, -4.06824876],\n",
       "       [ 9.07989543, -3.67155932],\n",
       "       [ 3.28109893, -7.32941059],\n",
       "       [ 9.67020591, -2.8742874 ],\n",
       "       [-5.89425815, -0.09597717],\n",
       "       [ 9.99300063, -3.51072005],\n",
       "       [ 7.99858354, -2.79143149],\n",
       "       [ 7.09362081, -3.87385714],\n",
       "       [ 9.27921168, -2.32907777],\n",
       "       [ 6.74713902, -2.27112709],\n",
       "       [ 9.59901794, -0.77822045],\n",
       "       [ 3.22538704,  1.36591585],\n",
       "       [-5.82395387, -4.06810152],\n",
       "       [ 1.95551603,  1.31646609],\n",
       "       [-5.08704462, -0.6759471 ],\n",
       "       [ 4.4495306 , -6.54271729],\n",
       "       [ 7.414006  , -2.54545427],\n",
       "       [ 4.02856597,  2.78539401],\n",
       "       [ 7.85723766, -4.795267  ],\n",
       "       [ 9.19585527, -2.02771236],\n",
       "       [-4.94643361, -4.2854517 ],\n",
       "       [-2.95217814, -4.9955859 ],\n",
       "       [ 3.76503189,  1.14151647],\n",
       "       [ 7.01073884, -2.70741031],\n",
       "       [-2.76299101, -5.26478158],\n",
       "       [ 7.20747608, -3.26989557],\n",
       "       [10.30492584, -3.83481339],\n",
       "       [-3.82163066, -3.52287121],\n",
       "       [-4.87829795, -5.22678798],\n",
       "       [-7.63409628, -0.05107204],\n",
       "       [ 9.55983955, -4.57092245],\n",
       "       [ 3.40477847, -7.07182127],\n",
       "       [-7.53726498,  1.38725616],\n",
       "       [ 3.64152435,  1.9767878 ],\n",
       "       [-6.16476263,  0.43197346],\n",
       "       [ 6.06141197, -7.54416071],\n",
       "       [-5.31492605, -4.19584799],\n",
       "       [ 5.72052473, -2.93091018],\n",
       "       [ 4.56143102, -5.82589566],\n",
       "       [-4.78594968, -3.91230478],\n",
       "       [ 3.36385504,  1.72909023],\n",
       "       [-3.13654535, -3.23722045],\n",
       "       [10.42242148, -2.60059722],\n",
       "       [-5.83550751, -0.03276711],\n",
       "       [ 6.51743822, -2.66389197],\n",
       "       [ 8.31660088, -1.85701175],\n",
       "       [ 6.74192928, -4.14993098],\n",
       "       [-7.62614336, -0.68029651],\n",
       "       [-7.24388902, -2.29150567],\n",
       "       [ 5.11850177, -6.70318294],\n",
       "       [ 8.57618463, -2.59322172],\n",
       "       [ 9.37772777, -1.91499733],\n",
       "       [-5.38388345, -3.34888469],\n",
       "       [ 5.9515922 , -2.97576077],\n",
       "       [-6.11486493, -0.71306819],\n",
       "       [ 3.31575177,  1.35744835],\n",
       "       [ 4.32719787, -7.04318584],\n",
       "       [ 5.73268417, -3.65170501],\n",
       "       [ 2.51954434,  0.684994  ],\n",
       "       [-5.08215733, -3.5731212 ],\n",
       "       [ 6.60596676, -4.15743481],\n",
       "       [-6.13639821, -0.12185088],\n",
       "       [-7.21664895,  0.24132672],\n",
       "       [ 4.89164062, -6.00979298],\n",
       "       [ 4.89974111,  1.78362407],\n",
       "       [ 4.23304193,  2.09068212],\n",
       "       [ 3.78269091, -6.3446943 ],\n",
       "       [-5.5591765 , -0.16253857],\n",
       "       [-5.00352601, -4.38407808],\n",
       "       [-6.44325978, -0.37931481],\n",
       "       [ 5.33501099, -5.97145208],\n",
       "       [-3.1744115 , -3.85103333],\n",
       "       [ 7.01061846, -3.4838817 ],\n",
       "       [10.21277899, -3.64380987],\n",
       "       [ 8.72748431, -3.25457308],\n",
       "       [-5.74243273,  0.17910176],\n",
       "       [ 4.0105954 ,  1.55660928],\n",
       "       [-2.97676023, -4.07783876],\n",
       "       [ 4.05169923, -5.79179178],\n",
       "       [ 3.83060706,  0.78151641],\n",
       "       [-8.22762813,  0.72170818],\n",
       "       [ 3.99469457, -6.75226395],\n",
       "       [ 3.97280066, -6.41461063],\n",
       "       [ 3.54769333,  1.98398621],\n",
       "       [-6.51275186, -0.63236431],\n",
       "       [-4.66741232, -4.22884903],\n",
       "       [-4.21022946, -4.64600172],\n",
       "       [ 8.90324372, -3.11940271],\n",
       "       [-6.68000789, -0.37386251],\n",
       "       [ 8.27327445, -2.78875479],\n",
       "       [ 4.02933681,  2.0789532 ],\n",
       "       [ 2.27515246,  1.98856138],\n",
       "       [ 6.14252117, -7.53614369],\n",
       "       [ 4.4551087 ,  1.49954459],\n",
       "       [-6.6988209 , -0.23960407],\n",
       "       [ 5.06324956, -7.31377992],\n",
       "       [ 2.66569133, -0.01510233],\n",
       "       [-4.29900394, -5.3741098 ],\n",
       "       [ 3.24659635,  0.52810153],\n",
       "       [ 8.57161801, -2.3796893 ],\n",
       "       [ 9.98510489, -3.24757561],\n",
       "       [-5.49923154, -0.41620911],\n",
       "       [ 6.90464558, -4.03764143],\n",
       "       [-5.41333095, -0.77429483],\n",
       "       [ 4.16271667, -6.87703284],\n",
       "       [ 2.88487589,  1.23701426],\n",
       "       [ 9.44206404, -3.91013514],\n",
       "       [ 9.01322191, -3.4361978 ],\n",
       "       [ 5.52471141, -3.72495779],\n",
       "       [ 3.91841838,  0.63675736],\n",
       "       [ 7.18821791, -3.77453655],\n",
       "       [ 7.97734332, -1.05926368],\n",
       "       [-7.32061076, -2.24038765],\n",
       "       [ 5.67632103, -2.92185492],\n",
       "       [ 9.39153775, -2.26311583],\n",
       "       [ 9.89510298, -2.34299855],\n",
       "       [ 3.97416187, -7.02515694],\n",
       "       [ 8.67721944, -3.04585016],\n",
       "       [ 3.92805322,  1.33070518],\n",
       "       [-6.53654004,  0.17714428],\n",
       "       [-7.69603983, -0.63088551],\n",
       "       [-4.97566696, -3.04044806],\n",
       "       [ 9.51882963, -3.73854603],\n",
       "       [ 6.23391202, -3.78376708],\n",
       "       [-4.63098198, -3.66715039],\n",
       "       [-4.20710701, -3.25373994],\n",
       "       [-5.04555947, -4.6102623 ],\n",
       "       [ 3.91059139,  1.39120366],\n",
       "       [ 8.17003862, -2.47637539],\n",
       "       [ 4.11400797, -6.63296909],\n",
       "       [ 8.55348968, -2.70005329],\n",
       "       [ 6.38860506, -2.72566838],\n",
       "       [ 2.75753282, -0.62749258],\n",
       "       [-5.73969927, -0.6926782 ],\n",
       "       [ 6.74876577, -4.15727828],\n",
       "       [ 4.40518888, -5.34676723],\n",
       "       [ 7.64308208, -3.83907379],\n",
       "       [ 3.65392831,  1.59257582],\n",
       "       [ 3.44743506,  1.87579001],\n",
       "       [ 9.13409117, -3.00957093],\n",
       "       [-6.00987819, -0.79628156],\n",
       "       [-3.58652085, -3.69644969],\n",
       "       [ 4.75519236,  1.7472663 ],\n",
       "       [ 3.9652428 ,  1.84162911],\n",
       "       [-3.57299617, -4.49494809],\n",
       "       [ 7.30688108, -3.39382539],\n",
       "       [-3.75866234, -5.71102437],\n",
       "       [ 3.06985428,  0.61519745],\n",
       "       [-6.62647852,  0.11085597],\n",
       "       [-4.3856767 , -4.32865347],\n",
       "       [ 6.5283543 , -2.97495093],\n",
       "       [10.21592605, -4.16352503],\n",
       "       [ 4.6303172 , -5.92535588],\n",
       "       [ 4.83137436, -6.41798724],\n",
       "       [ 2.43265132, -5.71916068],\n",
       "       [ 9.71505357, -2.46054851],\n",
       "       [ 7.02785525, -1.59376985],\n",
       "       [ 3.65894416,  1.71381264],\n",
       "       [10.1426865 , -4.53053808],\n",
       "       [ 6.46788804, -2.91694918],\n",
       "       [ 4.47314088, -5.10711009],\n",
       "       [-4.07954735, -4.84518097],\n",
       "       [10.0668569 , -3.94100639],\n",
       "       [-4.0253549 , -5.7171271 ],\n",
       "       [ 6.51189427, -3.33953872],\n",
       "       [ 2.04925503,  1.64703501],\n",
       "       [-6.95349708, -3.72791508],\n",
       "       [ 3.7800279 ,  1.84970435],\n",
       "       [-5.48220492,  0.23533713],\n",
       "       [ 4.16914592,  0.88418358],\n",
       "       [-4.02754353, -3.99784571],\n",
       "       [ 8.3055786 , -3.62796729],\n",
       "       [-6.07350454,  0.18691842],\n",
       "       [ 9.47799108, -3.2873514 ],\n",
       "       [ 7.49724543, -4.59766001],\n",
       "       [-5.91431577, -0.48172543],\n",
       "       [10.53631025, -2.55563073],\n",
       "       [-5.32750381, -0.74919898],\n",
       "       [ 6.34746681, -3.79620761],\n",
       "       [ 6.62364536, -4.60015728],\n",
       "       [ 2.07466488,  0.5206007 ],\n",
       "       [ 6.03169236,  3.46749035],\n",
       "       [ 5.08931031, -5.8348621 ],\n",
       "       [ 6.21382949,  1.13694908],\n",
       "       [-4.10205495, -2.84199915],\n",
       "       [ 9.65045826, -2.67254225],\n",
       "       [ 6.67199995, -3.03124312],\n",
       "       [ 6.31843693, -3.26707574],\n",
       "       [ 9.99001375, -3.28286669],\n",
       "       [ 3.56271745, -5.80146944],\n",
       "       [-5.63608594, -5.3248775 ],\n",
       "       [ 3.89218283,  1.78826404],\n",
       "       [ 3.8965326 , -6.86521038],\n",
       "       [ 9.06823679, -4.66522098],\n",
       "       [ 6.49636844, -3.80495569],\n",
       "       [ 8.59885043, -2.85070099],\n",
       "       [ 2.75739248, -5.39165405],\n",
       "       [ 5.01172882, -6.22430976],\n",
       "       [ 4.08248921, -7.32910617],\n",
       "       [ 9.39212619, -1.84816791],\n",
       "       [-6.00101287,  0.19277684],\n",
       "       [-7.04525763,  0.44175018],\n",
       "       [ 9.27791131, -3.86196385],\n",
       "       [ 3.22751853,  0.16219888],\n",
       "       [ 8.92639165, -3.41556132],\n",
       "       [ 5.67858359, -3.90177725],\n",
       "       [ 4.99760549,  1.19701046],\n",
       "       [ 7.15356065, -2.74329762],\n",
       "       [-7.25142383, -1.14625092],\n",
       "       [-4.31904962, -5.40749685],\n",
       "       [ 5.44446026, -1.03935311],\n",
       "       [ 2.60235575,  0.95250813],\n",
       "       [-7.00419884, -0.06849208],\n",
       "       [ 7.29967683, -3.74331974],\n",
       "       [ 1.98370585,  2.25803671],\n",
       "       [ 3.85032055, -6.66944131],\n",
       "       [ 4.999889  , -2.39406928],\n",
       "       [ 4.41489363, -5.652684  ],\n",
       "       [-4.73789117, -2.29296759],\n",
       "       [ 3.92839741,  0.38069571],\n",
       "       [ 9.25105872, -4.59601763],\n",
       "       [10.45818624, -2.33005521],\n",
       "       [ 3.8713449 , -8.15064273],\n",
       "       [ 9.62946757, -4.29265452],\n",
       "       [-6.89810241, -0.85876462]])"
      ]
     },
     "execution_count": 29,
     "metadata": {},
     "output_type": "execute_result"
    }
   ],
   "source": [
    "X"
   ]
  },
  {
   "cell_type": "code",
   "execution_count": 25,
   "metadata": {},
   "outputs": [
    {
     "data": {
      "text/plain": [
       "<matplotlib.collections.PathCollection at 0x1a1b6c1940>"
      ]
     },
     "execution_count": 25,
     "metadata": {},
     "output_type": "execute_result"
    },
    {
     "data": {
      "image/png": "[encoded data removed]",
      "text/plain": [
       "<Figure size 432x288 with 1 Axes>"
      ]
     },
     "metadata": {
      "needs_background": "light"
     },
     "output_type": "display_data"
    }
   ],
   "source": [
    "plt.scatter(X[:, 0], X[:, 1], c=y, s=10)"
   ]
  },
  {
   "cell_type": "markdown",
   "metadata": {},
   "source": [
    "The nice thing about creating a synthetic dataset with `make_blobs` is that it can assign ground-truth clusters, which is why each of the clusters in the visualization above are colored differently. Because of this, we have a way to check the performance of our clustering results against the ground truth of the synthetic dataset. Note that this isn't something that we can do with real-world problems (because if we had labels, we'd likely use supervised learning instead!). However, when learning how to work with clustering algorithms, this provides a solid way for us to learn a bit more about how the algorithm works. \n",
    "\n",
    "## Using K-Means\n",
    "\n",
    "Let's go ahead and create a `KMeans` object and fit it to our data. Then, we can explore the results provided by the algorithm to see how well it performs. \n",
    "\n",
    "In the cell below:\n",
    "\n",
    "* Create a `KMeans` object, and set the `n_clusters` parameter to `6`.\n",
    "* `fit()` the KMeans object to the data stored in `X`.\n",
    "* Use the KMeans object to predict which clusters each data point belongs to by using the `Predict` method on the data stored in `X`."
   ]
  },
  {
   "cell_type": "code",
   "execution_count": 19,
   "metadata": {},
   "outputs": [],
   "source": [
    "k_means = KMeans(n_clusters=6)\n",
    "k_means.fit(X)\n",
    "predicted_clusters = k_means.predict(X)"
   ]
  },
  {
   "cell_type": "markdown",
   "metadata": {},
   "source": [
    "Now that we have the predicted clusters, let's visualize them both and compare the two. \n",
    "\n",
    "In the cell below: \n",
    "\n",
    "* Create a scatter plot as we did up above, but this time, set `c=predicted_clusters`. The first two arguments and `s=10` should stay the same. \n",
    "* Get the cluster centers from the object's `.cluster_centers_` attribute. \n",
    "* Create another scatter plot, but this time, for the first two arguments, pass in `centers[:, 0]` and `centers[:, 1]`. Also set `c='black'` and `s=70`."
   ]
  },
  {
   "cell_type": "code",
   "execution_count": 42,
   "metadata": {},
   "outputs": [
    {
     "data": {
      "text/plain": [
       "<matplotlib.collections.PathCollection at 0x1a1be86908>"
      ]
     },
     "execution_count": 42,
     "metadata": {},
     "output_type": "execute_result"
    },
    {
     "data": {
      "image/png": "[encoded data removed]",
      "text/plain": [
       "<Figure size 432x288 with 1 Axes>"
      ]
     },
     "metadata": {
      "needs_background": "light"
     },
     "output_type": "display_data"
    }
   ],
   "source": [
    "plt.scatter(X[:, 0], X[:, 1], c=predicted_clusters, s=10)\n",
    "centers = k_means.cluster_centers_\n",
    "plt.scatter(centers[:, 0], centers[:, 1], c='black', s=70)"
   ]
  },
  {
   "cell_type": "markdown",
   "metadata": {},
   "source": [
    "**_Question:_**\n",
    "\n",
    "In your opinion, do the centroids match up with the cluster centers?\n",
    "\n",
    "Write your answer below this line:\n",
    "_______________________________________________________________________________\n",
    "\n",
    "\n",
    "\n",
    "## Tuning Parameters\n",
    "\n",
    "As you can see, the k means algorithm is pretty good at identifying the clusters. Do keep in mind that for a real data set, you will not be able to evaluate the method as such, as we don't know a priori what the clusters should be. This is the nature of unsupervised learning. The Scikit learn documentation does suggest two methods to evaluate your clusters when the \"ground truth\" is not known: the Silhouette coefficient and the Calinski-Harabaz Index. We'll talk about them later, but first, let's look at the Scikit learn options when using the KMeans function.\n",
    "\n",
    "The nice hing about the scikit learn k-means clustering algorithm is that certain parameters can be specified to tweak the algorithm. We'll discuss two important parameters which we haven't specified before: `init` and `algorithm`.\n",
    "\n",
    "### 1. The `init` parameter\n",
    "\n",
    "`init` specifies the method for initialization:\n",
    "\n",
    "- `k-means++` is the default method, this method selects initial cluster centers in a smart way in order to pursue fast convergence.\n",
    "- `random`: choose k random observations for the initial centroids.\n",
    "- `ndarray`: you can pass this argument and provide initial centers.\n",
    "\n",
    "### 2. The `algorithm` parameter\n",
    "\n",
    "`algorithm` specifies the algorithm used:\n",
    "\n",
    "- If `full` is specified, a full EM-style algorithm is performed. EM is short for \"Expectation Maximization\" and its name is derived from the nature of the algorithm, where in each iteration an E-step (in the context of K-means clustering, the points are assigned to the nearest center) and an M-step (the cluster mean is updated based on the elements of the cluster) is created. \n",
    "- The EM algorithm can be slow. The `elkan` variation is more efficient, but not available for sparse data.\n",
    "- The default is `auto`, and automatically selects `full` for sparse data and `elkan` for dense data. \n",
    "\n",
    "### Dealing With an Unknown Number of Clusters\n",
    "\n",
    "Now, let's create another dataset. This time, we'll randomly generate a number between 3 and 8 to determine the number of clusters, without us knowing what that value actually is. \n",
    "\n",
    "In the cell below:\n",
    "\n",
    "* Create another dataset using `make_blobs`. Pass in the following parameters:\n",
    "    * `n_samples=400`\n",
    "    * `n_features=2`\n",
    "    * `centers=np.random.randint(3, 8)`\n",
    "    * `cluster_std = 0.8`"
   ]
  },
  {
   "cell_type": "code",
   "execution_count": 43,
   "metadata": {},
   "outputs": [],
   "source": [
    "X_2, y_2 = make_blobs(n_samples=400, n_features=2, centers=np.random.randint(3,8), cluster_std = 0.8)"
   ]
  },
  {
   "cell_type": "markdown",
   "metadata": {},
   "source": [
    "Now, we've created a dataset, but we don't know how many clusters actually exist in this dataset, so we don't know what value to set for K!\n",
    "\n",
    "In order to figure out the best value for K, we'll create a different version of the clustering algorithm for each potential value of K, and find the best one using an **_Elbow Plot_**.   \n",
    "\n",
    "First, we'll need to create a different \n",
    "\n",
    "In the cell below, create and fit each `KMeans` object. Each one should be initialized with a different value for `n_clusters` between 3 and 7, inclusive.\n",
    "\n",
    "Then, store each of the objects in a list. "
   ]
  },
  {
   "cell_type": "code",
   "execution_count": 60,
   "metadata": {},
   "outputs": [],
   "source": [
    "k_means_3 = KMeans(n_clusters=3)\n",
    "k_means_4 = KMeans(n_clusters=4)\n",
    "k_means_5 = KMeans(n_clusters=5)\n",
    "k_means_6 = KMeans(n_clusters=6)\n",
    "k_means_7 = KMeans(n_clusters=7)\n",
    "\n",
    "k_list = [k_means_3, k_means_4, k_means_5, k_means_6, k_means_7]"
   ]
  },
  {
   "cell_type": "markdown",
   "metadata": {},
   "source": [
    "Now, in the cell below, import `calinski_harabaz_score` from `sklearn.metrics`. "
   ]
  },
  {
   "cell_type": "code",
   "execution_count": 59,
   "metadata": {},
   "outputs": [],
   "source": [
    "from sklearn.metrics import calinski_harabaz_score"
   ]
  },
  {
   "cell_type": "markdown",
   "metadata": {},
   "source": [
    "This is a metric used to judge how good our overall fit is. This score works by computing a ratio of between-cluster distance to inter-cluster distance. Intuitively, we can assume that good clusters will have smaller distances between the points in each cluster, and larger distances to the points in other clusters.\n",
    "\n",
    "Note that it's not a good idea to just exhaustively try every possible value for k. As K grows, the number of points inside each cluster shrinks, until K is equal to the total number of items in our dataset. At this point, each cluster would report a perfect variance ratio, since each point is at the center of their own individual cluster! \n",
    "\n",
    "Instead, our best method is to plot the variance ratios, and find the **_elbow_** in the plot. Here's an example of the type of plot we'll generate:\n",
    "\n",
    "<img src='elbow-method.png'>\n",
    "\n",
    "In this example, the elbow is at K=3. This provides the biggest change to the CH score, and every one after that provides only a minimal improvement. \n",
    "\n",
    "In the cell below:\n",
    "\n",
    "* Create an empty list called `CH_score`\n",
    "* Loop through the models we stored in `k_list`. \n",
    "    * For each model, get the labels from the `.labels_` attribute.\n",
    "    * Calculate the `calinski_harabaz_score` and pass in the data, `X_2`, and the `labels`. Append this score to `CH_score`"
   ]
  },
  {
   "cell_type": "code",
   "execution_count": 67,
   "metadata": {},
   "outputs": [],
   "source": [
    "CH_score = []\n",
    "for i in k_list: \n",
    "    i.fit(X_2)\n",
    "    CH_score.append(calinski_harabaz_score(X_2, i.labels_))"
   ]
  },
  {
   "cell_type": "markdown",
   "metadata": {},
   "source": [
    "Now, let's create a visualization of our CH scores. \n",
    "\n",
    "Run the cell below to visualize our elbow plot of CH scores. "
   ]
  },
  {
   "cell_type": "code",
   "execution_count": 68,
   "metadata": {},
   "outputs": [
    {
     "data": {
      "image/png": "[encoded data removed]",
      "text/plain": [
       "<Figure size 432x288 with 1 Axes>"
      ]
     },
     "metadata": {
      "needs_background": "light"
     },
     "output_type": "display_data"
    }
   ],
   "source": [
    "plt.plot([3, 4, 5, 6, 7], CH_score)\n",
    "plt.xticks([3,4,5,6,7])\n",
    "plt.title(\"Calinski Harabaz Scores for Different Values of K\")\n",
    "plt.ylabel(\"Variance Ratio\")\n",
    "plt.xlabel(\"K=\")\n",
    "plt.show()"
   ]
  },
  {
   "cell_type": "markdown",
   "metadata": {},
   "source": [
    "**_Question:_**  Interpret the elbow plot we just created. Where is the \"elbow\" in this plot? According to this plot, how many clusters do you think actually exist in the dataset we created?\n",
    "\n",
    "Write your answer below this line:\n",
    "_______________________________________________________________________________\n",
    "\n",
    "\n",
    "Let's end by visualizing our `X_2` dataset we created, to see what our data actually looks like.\n",
    "\n",
    "In the cell below, create a scatterplot to visualize our dataset stored in `X_2`. Set `c=y_2`, so that the plot colors each point according to its ground-truth cluster, and set `s=10` so the points won't be too big. "
   ]
  },
  {
   "cell_type": "code",
   "execution_count": 79,
   "metadata": {},
   "outputs": [
    {
     "data": {
      "text/plain": [
       "<matplotlib.collections.PathCollection at 0x1a1cfb5630>"
      ]
     },
     "execution_count": 79,
     "metadata": {},
     "output_type": "execute_result"
    },
    {
     "data": {
      "image/png": "[encoded data removed]",
      "text/plain": [
       "<Figure size 432x288 with 1 Axes>"
      ]
     },
     "metadata": {
      "needs_background": "light"
     },
     "output_type": "display_data"
    }
   ],
   "source": [
    "plt.scatter(X_2[:,0], X_2[:, 1], c=y_2, s=10)"
   ]
  },
  {
   "cell_type": "markdown",
   "metadata": {},
   "source": [
    "We were right! The data does actually contain six clusters. Note that are other types of metrics that can also be used to evaluate the correct value for K, such as silhouette score. However, checking the variance ratio by calculating Calinski Harabaz Scores is one of the most tried-and-true methods, and should definitely be one of the first tools you reach for when trying to figure out the optimal value for K with K-Means Clustering. \n",
    "\n",
    "## A Note on Dimensionality\n",
    "\n",
    "We should also note that for this example, we were able to visualize our data because it only contained two dimensions. In the real world, working with datasets with only two dimensions is quite rare. This means that you can't always visualize your plots to double check your work. For this reason, it's extra important to be considerate about the metrics you use to evaluate the performance of your clustering algorithm, since you won't be able to \"eyeball\" it to visually check how many clusters the data looks like it has when you're working with datasets that contain hundreds of dimensions!\n",
    "\n",
    "\n",
    "## Summary\n",
    "\n",
    "In this lesson, we learned how to use the K-Means Clustering algorithm in scikit-learn. We also learned a strategy for finding the optimal value for K by using elbow plots and variance ratios, for when we're working with data and we don't know how many clusters actually exist. "
   ]
  }
 ],
 "metadata": {
  "kernelspec": {
   "display_name": "Python 3",
   "language": "python",
   "name": "python3"
  },
  "language_info": {
   "codemirror_mode": {
    "name": "ipython",
    "version": 3
   },
   "file_extension": ".py",
   "mimetype": "text/x-python",
   "name": "python",
   "nbconvert_exporter": "python",
   "pygments_lexer": "ipython3",
   "version": "3.6.8"
  }
 },
 "nbformat": 4,
 "nbformat_minor": 2
}
